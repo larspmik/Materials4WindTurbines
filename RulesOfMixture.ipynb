{
 "cells": [
  {
   "cell_type": "markdown",
   "metadata": {},
   "source": [
    "# Composite stiffness in the longitudinal and transverse direction"
   ]
  },
  {
   "cell_type": "markdown",
   "metadata": {},
   "source": [
    "Loading nessesary modules for later use. In order to run the cell, stand on them and press Ctrl+enter. Change numbers and reload the same way. "
   ]
  },
  {
   "cell_type": "code",
   "execution_count": 1,
   "metadata": {
    "collapsed": true
   },
   "outputs": [],
   "source": [
    "import numpy as np\n",
    "import matplotlib.pyplot as plt\n",
    "%matplotlib inline"
   ]
  },
  {
   "cell_type": "markdown",
   "metadata": {},
   "source": [
    "In the following the axial stiffness is calculated for a composite with the fibre volume fraction of $V_f$ consisting of long continues fibers with the stiffness of $E_f$ and matrix with the stiffness of $E_m$"
   ]
  },
  {
   "cell_type": "code",
   "execution_count": 10,
   "metadata": {
    "collapsed": true
   },
   "outputs": [],
   "source": [
    "Ef=80\n",
    "Em=10\n",
    "Vf=0.6"
   ]
  },
  {
   "cell_type": "markdown",
   "metadata": {},
   "source": [
    "From this information the stiffness in the fiber direction, $E_L$, can be calculated using Rules of Mixtures while the stiffness in the transverse direction, $E_T$, can be calculated using the inverse rules of mixture"
   ]
  },
  {
   "cell_type": "code",
   "execution_count": 11,
   "metadata": {
    "collapsed": false
   },
   "outputs": [
    {
     "name": "stdout",
     "output_type": "stream",
     "text": [
      "EL = 52.0GPa\n",
      "ET = 21.05263157894737GPa\n"
     ]
    }
   ],
   "source": [
    "# Calculate stiffness for spefic fibre volume fraction\n",
    "EL=Vf*Ef+(1-Vf)*Em\n",
    "print('EL = '+str(EL)+'GPa')\n",
    "ET=Ef*Em/(Vf*Em+(1-Vf)*Ef)\n",
    "print('ET = '+str(ET)+'GPa')"
   ]
  },
  {
   "cell_type": "markdown",
   "metadata": {},
   "source": [
    "The two stiffness components can also be plotted as a function of the fiber volume fraction"
   ]
  },
  {
   "cell_type": "code",
   "execution_count": 8,
   "metadata": {
    "collapsed": false,
    "scrolled": false
   },
   "outputs": [
    {
     "data": {
      "text/plain": [
       "<matplotlib.legend.Legend at 0x8377940>"
      ]
     },
     "execution_count": 8,
     "metadata": {},
     "output_type": "execute_result"
    },
    {
     "data": {
      "image/png": "[encoded data removed]",
      "text/plain": [
       "<matplotlib.figure.Figure at 0x82ef940>"
      ]
     },
     "metadata": {},
     "output_type": "display_data"
    }
   ],
   "source": [
    "# Define function to plot\n",
    "def EL(Vf):\n",
    "    return Vf*Ef+(1-Vf)*Em\n",
    "def ET(Vf):\n",
    "    return Em*Ef/(Vf*Em+(1-Vf)*Ef)\n",
    "\n",
    "# Define range to plot\n",
    "Vf=np.arange(0.0,1.0,0.001)\n",
    "Vf1=np.arange(0.5,0.6,0.001)\n",
    "\n",
    "# Plot figure\n",
    "plt.ylim([0,1.1*Ef])\n",
    "plt.xlabel('$V_f$')\n",
    "plt.ylabel('Stiffness [GPa]')\n",
    "plt.plot(Vf, EL(Vf),'r-',Vf, ET(Vf),'b-')\n",
    "plt.plot(Vf1, EL(Vf1),'k-',linewidth=2.0)\n",
    "plt.plot(Vf1, ET(Vf1),'k-',linewidth=2.0)\n",
    "plt.legend([\"$E_L$\", \"$E_T$\",'$V_f \\in [0.5;0.6]$'], loc=2)"
   ]
  }
 ],
 "metadata": {
  "kernelspec": {
   "display_name": "Python 3",
   "language": "python",
   "name": "python3"
  },
  "language_info": {
   "codemirror_mode": {
    "name": "ipython",
    "version": 3
   },
   "file_extension": ".py",
   "mimetype": "text/x-python",
   "name": "python",
   "nbconvert_exporter": "python",
   "pygments_lexer": "ipython3",
   "version": "3.4.4"
  }
 },
 "nbformat": 4,
 "nbformat_minor": 0
}
